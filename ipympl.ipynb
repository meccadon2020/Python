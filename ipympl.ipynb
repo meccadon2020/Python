{
  "nbformat": 4,
  "nbformat_minor": 0,
  "metadata": {
    "colab": {
      "name": "ipympl",
      "provenance": [],
      "collapsed_sections": [],
      "include_colab_link": true
    },
    "kernelspec": {
      "name": "python3",
      "display_name": "Python 3"
    },
    "language_info": {
      "name": "python"
    }
  },
  "cells": [
    {
      "cell_type": "markdown",
      "metadata": {
        "id": "view-in-github",
        "colab_type": "text"
      },
      "source": [
        "<a href=\"https://colab.research.google.com/github/meccadon2020/Python/blob/main/ipympl.ipynb\" target=\"_parent\"><img src=\"https://colab.research.google.com/assets/colab-badge.svg\" alt=\"Open In Colab\"/></a>"
      ]
    },
    {
      "cell_type": "markdown",
      "metadata": {
        "id": "EL1Y0uuDEYKd"
      },
      "source": [
        "# Example of using [ipympl](https://github.com/matplotlib/ipympl) in Google Colab\n",
        "\n",
        "This currently requires running a development server locally, using the instructions from https://github.com/googlecolab/colab-cdn-widget-manager#development.\n",
        "\n",
        "```shell\n",
        "git clone https://github.com/googlecolab/colab-cdn-widget-manager\n",
        "cd colab-cdn-widget-manager\n",
        "npm install\n",
        "npm run server\n",
        " ```"
      ]
    },
    {
      "cell_type": "code",
      "metadata": {
        "colab": {
          "base_uri": "https://localhost:8080/"
        },
        "id": "saJbRTUTEGoT",
        "outputId": "6f4946a9-1194-43ea-f344-84f9a637366d"
      },
      "source": [
        "!pip install -q ipympl"
      ],
      "execution_count": null,
      "outputs": [
        {
          "output_type": "stream",
          "text": [
            "\u001b[?25l\r\u001b[K     |███                             | 10 kB 13.6 MB/s eta 0:00:01\r\u001b[K     |██████▏                         | 20 kB 10.3 MB/s eta 0:00:01\r\u001b[K     |█████████▎                      | 30 kB 7.8 MB/s eta 0:00:01\r\u001b[K     |████████████▍                   | 40 kB 6.9 MB/s eta 0:00:01\r\u001b[K     |███████████████▍                | 51 kB 4.0 MB/s eta 0:00:01\r\u001b[K     |██████████████████▌             | 61 kB 4.5 MB/s eta 0:00:01\r\u001b[K     |█████████████████████▋          | 71 kB 4.4 MB/s eta 0:00:01\r\u001b[K     |████████████████████████▊       | 81 kB 4.9 MB/s eta 0:00:01\r\u001b[K     |███████████████████████████▊    | 92 kB 3.8 MB/s eta 0:00:01\r\u001b[K     |██████████████████████████████▉ | 102 kB 4.2 MB/s eta 0:00:01\r\u001b[K     |████████████████████████████████| 106 kB 4.2 MB/s \n",
            "\u001b[?25h"
          ],
          "name": "stdout"
        }
      ]
    },
    {
      "cell_type": "code",
      "metadata": {
        "colab": {
          "base_uri": "https://localhost:8080/",
          "height": 17,
          "referenced_widgets": [
            "d88ae8f4e8ac407ea118f7835a7bf383"
          ]
        },
        "id": "gRFY8jbSET5Z",
        "outputId": "e573ec80-f2a5-4152-820e-ad81e9300966"
      },
      "source": [
        "%matplotlib widget\n",
        "from IPython.display import Javascript\n",
        "import matplotlib.pyplot as plt\n",
        "import numpy as np\n",
        "\n",
        "# This enables custom widgets in the current cell's output.\n",
        "# Currently this must be included in each cell using custom widgets but this\n",
        "# should be a temporary restriction.\n",
        "display(Javascript('''\n",
        "  google.colab.widgets.installCustomManager('http://127.0.0.1:9897/manager.dev.js');\n",
        "'''))\n",
        "\n",
        "from mpl_toolkits.mplot3d import axes3d\n",
        "\n",
        "fig = plt.figure()\n",
        "ax = fig.add_subplot(111, projection='3d')\n",
        "\n",
        "# Grab some test data.\n",
        "X, Y, Z = axes3d.get_test_data(0.05)\n",
        "\n",
        "# Plot a basic wireframe.\n",
        "ax.plot_wireframe(X, Y, Z, rstride=10, cstride=10)\n",
        "\n",
        "plt.show()"
      ],
      "execution_count": null,
      "outputs": [
        {
          "output_type": "display_data",
          "data": {
            "application/javascript": [
              "\n",
              "  google.colab.widgets.installCustomManager('http://127.0.0.1:9897/manager.dev.js');\n"
            ],
            "text/plain": [
              "<IPython.core.display.Javascript object>"
            ]
          },
          "metadata": {
            "tags": []
          }
        },
        {
          "output_type": "display_data",
          "data": {
            "application/vnd.jupyter.widget-view+json": {
              "model_id": "d88ae8f4e8ac407ea118f7835a7bf383",
              "version_minor": 0,
              "version_major": 2
            },
            "text/plain": [
              "Canvas(toolbar=Toolbar(toolitems=[('Home', 'Reset original view', 'home', 'home'), ('Back', 'Back to previous …"
            ]
          },
          "metadata": {
            "tags": []
          }
        }
      ]
    }
  ]
}